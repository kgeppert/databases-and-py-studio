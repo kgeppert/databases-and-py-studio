{
    "metadata": {
        "kernelspec": {
            "name": "python3",
            "display_name": "Python 3 (ipykernel)",
            "language": "python"
        },
        "language_info": {
            "name": "python",
            "version": "3.8.10",
            "mimetype": "text/x-python",
            "codemirror_mode": {
                "name": "ipython",
                "version": 3
            },
            "pygments_lexer": "ipython3",
            "nbconvert_exporter": "python",
            "file_extension": ".py"
        }
    },
    "nbformat_minor": 2,
    "nbformat": 4,
    "cells": [
        {
            "cell_type": "markdown",
            "source": [
                "# Studio: Working with Databases in Python\n",
                "\n",
                "For today's studio, we will be using the [TV Shows dataset](https://www.kaggle.com/ruchi798/tv-shows-on-netflix-prime-video-hulu-and-disney) from Kaggle. We have already downloaded the CSV for you.\n",
                "\n",
                "You will also be using the watchlist you just created to figure out which streaming services contain the shows that you want to watch next so you can decide which one is worth the money to you.\n",
                "\n",
                "As you complete the different tasks in the studio, you may choose between using Pandas or SQL. Remember that during the prep work, we learned that one is oftentimes more efficient at certain tasks than the other, so choose wisely!"
            ],
            "metadata": {
                "azdata_cell_guid": "54326aff-51cd-4766-8046-828a92489c6d"
            },
            "attachments": {}
        },
        {
            "cell_type": "markdown",
            "source": [
                "## My Watchlist\n",
                "\n",
                "If you would like, please use this space to make note of your watchlist by editing the text cell.\n",
                "\n",
                "Gilmore Girls\n",
                "\n",
                "Ted Lasso\n",
                "\n",
                "Marvelous Mrs. Maisel\n",
                "\n",
                "Bun Heads \n",
                "\n",
                "The Wilds\n",
                "\n",
                "The Walking Dead\n",
                "\n",
                "Stranger Things\n",
                "\n",
                "Seinfeld\n",
                "\n",
                "Comedians In Cars Getting Coffee\n",
                "\n",
                "Mad Men"
            ],
            "metadata": {
                "azdata_cell_guid": "00bc62ef-6c46-40a2-bdad-a3250a003ce7"
            },
            "attachments": {}
        },
        {
            "cell_type": "markdown",
            "source": [
                "## Database Setup\n",
                "\n",
                "To start with, import the necessary libraries and create a dataframe from the provided CSV. Print the info out for the dataframe. After that, you may drop the column called `Unnamed: 0` and rename any columns with spaces in the names or unusual characters such as `\"+\"`. Print out the info for the dataframe again to ensure that your changes were effective."
            ],
            "metadata": {
                "azdata_cell_guid": "040bdac5-f7fc-474f-b112-1d807249ad0a"
            }
        },
        {
            "cell_type": "code",
            "source": [
                "import sqlite3 as sl\r\n",
                "import pandas as pd"
            ],
            "metadata": {
                "azdata_cell_guid": "965f15d3-27b1-43ed-97e4-8c6fd482476c",
                "tags": [],
                "language": "python"
            },
            "outputs": [],
            "execution_count": 16
        },
        {
            "cell_type": "markdown",
            "source": [
                "With your dataframe at the ready, create a new database called `tv`. Add a new table to your database called `shows` using the data in the dataframe. "
            ],
            "metadata": {
                "azdata_cell_guid": "93875e01-f1ec-45ab-b8b3-c0fe09c89c41"
            },
            "attachments": {}
        },
        {
            "cell_type": "code",
            "source": [
                "data = pd.read_csv('tv_shows.csv', index_col=[0])\r\n",
                "data.rename(columns={'Rotten Tomatoes' : 'Rotten_Tomatoes', 'Prime Video' : 'Prime_Video', 'Disney+' : 'Disney_Plus'})\r\n",
                "\r\n",
                "data.head()\r\n",
                ""
            ],
            "metadata": {
                "azdata_cell_guid": "cae4affc-d930-4649-9c39-551475a83b5b",
                "tags": [],
                "language": "python"
            },
            "outputs": [
                {
                    "data": {
                        "text/plain": "   ID             Title  Year  Age    IMDb Rotten Tomatoes  Netflix  Hulu  \\\n0   1      Breaking Bad  2008  18+  9.4/10         100/100        1     0   \n1   2   Stranger Things  2016  16+  8.7/10          96/100        1     0   \n2   3   Attack on Titan  2013  18+  9.0/10          95/100        1     1   \n3   4  Better Call Saul  2015  18+  8.8/10          94/100        1     0   \n4   5              Dark  2017  16+  8.8/10          93/100        1     0   \n\n   Prime Video  Disney+  Type  \n0            0        0     1  \n1            0        0     1  \n2            0        0     1  \n3            0        0     1  \n4            0        0     1  ",
                        "text/html": "<div>\n<style scoped>\n    .dataframe tbody tr th:only-of-type {\n        vertical-align: middle;\n    }\n\n    .dataframe tbody tr th {\n        vertical-align: top;\n    }\n\n    .dataframe thead th {\n        text-align: right;\n    }\n</style>\n<table border=\"1\" class=\"dataframe\">\n  <thead>\n    <tr style=\"text-align: right;\">\n      <th></th>\n      <th>ID</th>\n      <th>Title</th>\n      <th>Year</th>\n      <th>Age</th>\n      <th>IMDb</th>\n      <th>Rotten Tomatoes</th>\n      <th>Netflix</th>\n      <th>Hulu</th>\n      <th>Prime Video</th>\n      <th>Disney+</th>\n      <th>Type</th>\n    </tr>\n  </thead>\n  <tbody>\n    <tr>\n      <th>0</th>\n      <td>1</td>\n      <td>Breaking Bad</td>\n      <td>2008</td>\n      <td>18+</td>\n      <td>9.4/10</td>\n      <td>100/100</td>\n      <td>1</td>\n      <td>0</td>\n      <td>0</td>\n      <td>0</td>\n      <td>1</td>\n    </tr>\n    <tr>\n      <th>1</th>\n      <td>2</td>\n      <td>Stranger Things</td>\n      <td>2016</td>\n      <td>16+</td>\n      <td>8.7/10</td>\n      <td>96/100</td>\n      <td>1</td>\n      <td>0</td>\n      <td>0</td>\n      <td>0</td>\n      <td>1</td>\n    </tr>\n    <tr>\n      <th>2</th>\n      <td>3</td>\n      <td>Attack on Titan</td>\n      <td>2013</td>\n      <td>18+</td>\n      <td>9.0/10</td>\n      <td>95/100</td>\n      <td>1</td>\n      <td>1</td>\n      <td>0</td>\n      <td>0</td>\n      <td>1</td>\n    </tr>\n    <tr>\n      <th>3</th>\n      <td>4</td>\n      <td>Better Call Saul</td>\n      <td>2015</td>\n      <td>18+</td>\n      <td>8.8/10</td>\n      <td>94/100</td>\n      <td>1</td>\n      <td>0</td>\n      <td>0</td>\n      <td>0</td>\n      <td>1</td>\n    </tr>\n    <tr>\n      <th>4</th>\n      <td>5</td>\n      <td>Dark</td>\n      <td>2017</td>\n      <td>16+</td>\n      <td>8.8/10</td>\n      <td>93/100</td>\n      <td>1</td>\n      <td>0</td>\n      <td>0</td>\n      <td>0</td>\n      <td>1</td>\n    </tr>\n  </tbody>\n</table>\n</div>"
                    },
                    "metadata": {},
                    "execution_count": 12,
                    "output_type": "execute_result"
                }
            ],
            "execution_count": 12
        },
        {
            "cell_type": "code",
            "source": [
                "con = sl.connect('tv.db')\r\n",
                "\r\n",
                "with con:\r\n",
                "    con.execute (\"\"\"\r\n",
                "        DROP TABLE shows;\"\"\"\r\n",
                "    )\r\n",
                "# with con:    \r\n",
                "#     con.execute(\"\"\"\r\n",
                "#     CREATE TABLE shows (\r\n",
                "#         ID INTEGER PRIMARY KEY AUTOINCREMENT,\r\n",
                "#         Title TEXT,\r\n",
                "#         Year INTEGER,\r\n",
                "#         Age TEXT,\r\n",
                "#         IMDB TEXT,\r\n",
                "#         Rotten_Tomatoes TEXT,\r\n",
                "#         Netflix INTEGER,\r\n",
                "#         Hulu INTEGER,\r\n",
                "#         Prime_Video INTEGER,\r\n",
                "#         Disney_Plus INTEGER,\r\n",
                "#         Type INTEGER\r\n",
                "#     );\r\n",
                "#     \"\"\")"
            ],
            "metadata": {
                "language": "python",
                "azdata_cell_guid": "ee168988-7297-408f-838e-57d15779cb98"
            },
            "outputs": [],
            "execution_count": 30
        },
        {
            "cell_type": "markdown",
            "source": [
                "With your new table and database set up, print out the top 20 records in the `shows` table."
            ],
            "metadata": {
                "azdata_cell_guid": "4916f211-149f-467b-b5e4-22ad946b54f2"
            },
            "attachments": {}
        },
        {
            "cell_type": "code",
            "source": [
                "# import csv \r\n",
                "# cursor = con.cursor()\r\n",
                "# file = open('tv_shows.csv')\r\n",
                "# contents = csv.reader(file)\r\n",
                "\r\n",
                "# insert_records = \"INSERT INTO shows (ID, Title, Year, Age, IMDB, Rotten_Tomatoes, Netflix, Hulu, Prime_Video, Disney_Plus, Type) VALUES(contents)\"\r\n",
                "# # insert_records = \"INSERT INTO shows (Title, Year, Age, IMDB, Rotten_Tomatoes, Netflix, Hulu, Prime_Video, Disney_Plus, Type) VALUES('Breaking Bad', 2008, '18+', '9.4/10', '100/100', 1, 0, 0, 0, 1)\"\r\n",
                "# cursor.executemany(insert_records, [contents])\r\n",
                "\r\n",
                "data.to_sql('shows',con)\r\n",
                "\r\n",
                ""
            ],
            "metadata": {
                "azdata_cell_guid": "c6aa3980-3eef-4d7d-8f04-961508662147",
                "tags": [],
                "language": "python"
            },
            "outputs": [
                {
                    "data": {
                        "text/plain": "5368"
                    },
                    "metadata": {},
                    "execution_count": 31,
                    "output_type": "execute_result"
                }
            ],
            "execution_count": 31
        },
        {
            "cell_type": "code",
            "source": [
                "with con:\r\n",
                "    data_again = con.execute(\"SELECT * FROM shows WHERE ID <= 20\")\r\n",
                "    for row in data_again:\r\n",
                "        print(row)\r\n",
                ""
            ],
            "metadata": {
                "language": "python",
                "azdata_cell_guid": "f44e0e5d-1ac0-4cb2-97c3-cdbc1d851beb"
            },
            "outputs": [
                {
                    "name": "stdout",
                    "text": "(0, 1, 'Breaking Bad', 2008, '18+', '9.4/10', '100/100', 1, 0, 0, 0, 1)\n(1, 2, 'Stranger Things', 2016, '16+', '8.7/10', '96/100', 1, 0, 0, 0, 1)\n(2, 3, 'Attack on Titan', 2013, '18+', '9.0/10', '95/100', 1, 1, 0, 0, 1)\n(3, 4, 'Better Call Saul', 2015, '18+', '8.8/10', '94/100', 1, 0, 0, 0, 1)\n(4, 5, 'Dark', 2017, '16+', '8.8/10', '93/100', 1, 0, 0, 0, 1)\n(5, 6, 'Avatar: The Last Airbender', 2005, '7+', '9.3/10', '93/100', 1, 0, 1, 0, 1)\n(6, 7, 'Peaky Blinders', 2013, '18+', '8.8/10', '93/100', 1, 0, 0, 0, 1)\n(7, 8, 'The Walking Dead', 2010, '18+', '8.2/10', '93/100', 1, 0, 0, 0, 1)\n(8, 9, 'Black Mirror', 2011, '18+', '8.8/10', '92/100', 1, 0, 0, 0, 1)\n(9, 10, \"The Queen's Gambit\", 2020, '18+', '8.6/10', '92/100', 1, 0, 0, 0, 1)\n(10, 11, 'Mindhunter', 2017, '18+', '8.6/10', '90/100', 1, 0, 0, 0, 1)\n(11, 12, 'Community', 2009, '7+', '8.5/10', '90/100', 1, 1, 1, 0, 1)\n(12, 13, 'Narcos', 2015, '18+', '8.8/10', '90/100', 1, 0, 0, 0, 1)\n(13, 14, 'Shameless', 2011, '18+', '8.5/10', '90/100', 1, 1, 1, 0, 1)\n(14, 15, 'Money Heist', 2017, '18+', '8.3/10', '90/100', 1, 0, 0, 0, 1)\n(15, 16, \"Marvel's Daredevil\", 2015, '18+', '8.6/10', '90/100', 1, 0, 0, 0, 1)\n(16, 17, 'Lucifer', 2016, '16+', '8.1/10', '90/100', 1, 0, 0, 0, 1)\n(17, 18, 'Supernatural', 2005, '16+', '8.4/10', '89/100', 1, 0, 0, 0, 1)\n(18, 19, 'The Witcher', 2019, '18+', '8.2/10', '89/100', 1, 0, 0, 0, 1)\n(19, 20, 'Ozark', 2017, '18+', '8.4/10', '89/100', 1, 0, 0, 0, 1)\n",
                    "output_type": "stream"
                }
            ],
            "execution_count": 33
        },
        {
            "cell_type": "markdown",
            "source": [
                "Now add a table that includes an id number and the titles on your watchlist."
            ],
            "metadata": {
                "azdata_cell_guid": "f158ccd2-c87a-4d2c-a947-0eadd0484a3e"
            },
            "attachments": {}
        },
        {
            "cell_type": "code",
            "source": [
                "with con:    \r\n",
                "    con.execute(\"\"\"\r\n",
                "    CREATE TABLE watch_list (\r\n",
                "        ID INTEGER PRIMARY KEY AUTOINCREMENT,\r\n",
                "        Title TEXT\r\n",
                "    );\r\n",
                "    \"\"\")"
            ],
            "metadata": {
                "azdata_cell_guid": "f95defad-521b-4112-8435-08daaac80b80",
                "language": "python",
                "tags": []
            },
            "outputs": [],
            "execution_count": 34
        },
        {
            "cell_type": "code",
            "source": [
                "with con:\r\n",
                "    data_again = con.execute(\"SELECT * FROM watch_list WHERE ID <= 20\")\r\n",
                "    for row in data_again:\r\n",
                "        print(row)"
            ],
            "metadata": {
                "language": "python",
                "azdata_cell_guid": "0bab740e-da91-4f73-9b4e-b1a0db72596b",
                "tags": []
            },
            "outputs": [],
            "execution_count": 36
        },
        {
            "cell_type": "markdown",
            "source": [
                "## Working with the Data\n",
                "\n",
                "Using either Pandas or SQL, determine how many shows are on each streaming service and what the mean is for each streaming service. \n",
                "\n",
                "**Note**: You may notice that the mean represents the percentage of shows in the dataframe that are on each streaming service. Take a moment to think about why that is."
            ],
            "metadata": {
                "azdata_cell_guid": "4716090d-63e3-4283-8245-934c4a28c750"
            },
            "attachments": {}
        },
        {
            "cell_type": "code",
            "source": [
                "data.describe()"
            ],
            "metadata": {
                "azdata_cell_guid": "8e4f3757-474f-4e20-b861-db973437b541",
                "language": "python"
            },
            "outputs": [
                {
                    "data": {
                        "text/plain": "                ID         Year      Netflix         Hulu  Prime Video  \\\ncount  5368.000000  5368.000000  5368.000000  5368.000000  5368.000000   \nmean   2814.945790  2012.628726     0.367176     0.301975     0.341095   \nstd    1672.385727    10.142813     0.482080     0.459157     0.474122   \nmin       1.000000  1904.000000     0.000000     0.000000     0.000000   \n25%    1345.750000  2011.000000     0.000000     0.000000     0.000000   \n50%    2788.000000  2016.000000     0.000000     0.000000     0.000000   \n75%    4308.250000  2018.000000     1.000000     1.000000     1.000000   \nmax    5717.000000  2021.000000     1.000000     1.000000     1.000000   \n\n           Disney+    Type  \ncount  5368.000000  5368.0  \nmean      0.065387     1.0  \nstd       0.247231     0.0  \nmin       0.000000     1.0  \n25%       0.000000     1.0  \n50%       0.000000     1.0  \n75%       0.000000     1.0  \nmax       1.000000     1.0  ",
                        "text/html": "<div>\n<style scoped>\n    .dataframe tbody tr th:only-of-type {\n        vertical-align: middle;\n    }\n\n    .dataframe tbody tr th {\n        vertical-align: top;\n    }\n\n    .dataframe thead th {\n        text-align: right;\n    }\n</style>\n<table border=\"1\" class=\"dataframe\">\n  <thead>\n    <tr style=\"text-align: right;\">\n      <th></th>\n      <th>ID</th>\n      <th>Year</th>\n      <th>Netflix</th>\n      <th>Hulu</th>\n      <th>Prime Video</th>\n      <th>Disney+</th>\n      <th>Type</th>\n    </tr>\n  </thead>\n  <tbody>\n    <tr>\n      <th>count</th>\n      <td>5368.000000</td>\n      <td>5368.000000</td>\n      <td>5368.000000</td>\n      <td>5368.000000</td>\n      <td>5368.000000</td>\n      <td>5368.000000</td>\n      <td>5368.0</td>\n    </tr>\n    <tr>\n      <th>mean</th>\n      <td>2814.945790</td>\n      <td>2012.628726</td>\n      <td>0.367176</td>\n      <td>0.301975</td>\n      <td>0.341095</td>\n      <td>0.065387</td>\n      <td>1.0</td>\n    </tr>\n    <tr>\n      <th>std</th>\n      <td>1672.385727</td>\n      <td>10.142813</td>\n      <td>0.482080</td>\n      <td>0.459157</td>\n      <td>0.474122</td>\n      <td>0.247231</td>\n      <td>0.0</td>\n    </tr>\n    <tr>\n      <th>min</th>\n      <td>1.000000</td>\n      <td>1904.000000</td>\n      <td>0.000000</td>\n      <td>0.000000</td>\n      <td>0.000000</td>\n      <td>0.000000</td>\n      <td>1.0</td>\n    </tr>\n    <tr>\n      <th>25%</th>\n      <td>1345.750000</td>\n      <td>2011.000000</td>\n      <td>0.000000</td>\n      <td>0.000000</td>\n      <td>0.000000</td>\n      <td>0.000000</td>\n      <td>1.0</td>\n    </tr>\n    <tr>\n      <th>50%</th>\n      <td>2788.000000</td>\n      <td>2016.000000</td>\n      <td>0.000000</td>\n      <td>0.000000</td>\n      <td>0.000000</td>\n      <td>0.000000</td>\n      <td>1.0</td>\n    </tr>\n    <tr>\n      <th>75%</th>\n      <td>4308.250000</td>\n      <td>2018.000000</td>\n      <td>1.000000</td>\n      <td>1.000000</td>\n      <td>1.000000</td>\n      <td>0.000000</td>\n      <td>1.0</td>\n    </tr>\n    <tr>\n      <th>max</th>\n      <td>5717.000000</td>\n      <td>2021.000000</td>\n      <td>1.000000</td>\n      <td>1.000000</td>\n      <td>1.000000</td>\n      <td>1.000000</td>\n      <td>1.0</td>\n    </tr>\n  </tbody>\n</table>\n</div>"
                    },
                    "metadata": {},
                    "execution_count": 37,
                    "output_type": "execute_result"
                }
            ],
            "execution_count": 37
        },
        {
            "cell_type": "markdown",
            "source": [
                "Join your watchlist data with the shows data to determine which streaming services your watchlist shows are on and make a new table in your database using the joined data. Print out the data in your joined table to see what shows on your watchlist on in the original dataset. With the joined data, determine the percentage of your watchlist shows that are on each streaming service and how many of your watchlist shows are on each streaming service."
            ],
            "metadata": {
                "azdata_cell_guid": "167cbd0d-ad9f-4f27-8066-e45dfdfaf421"
            },
            "attachments": {}
        },
        {
            "cell_type": "code",
            "source": [
                "# cursor = con.cursor()\r\n",
                "sql_statement = 'INSERT INTO watch_list (ID, title) values(?, ?)'\r\n",
                "katy_watch = [\r\n",
                "    # (1, 'Walking Dead'),\r\n",
                "    # (2, 'Gilmore Girls'),\r\n",
                "    (3, 'Ted Lasso'),\r\n",
                "    (4, 'Marvelous Mrs. Maisel'),\r\n",
                "    (5, 'Bun Heads'),\r\n",
                "    (6, 'The Wilds'),\r\n",
                "    (7, 'Stranger Things'),\r\n",
                "    (8, 'Breaking Bad'),\r\n",
                "    (9, 'Comedians In Cars Getting Coffee'),\r\n",
                "    (10, 'Mad Men')\r\n",
                "]\r\n",
                "\r\n",
                "\r\n",
                "# insert_records = \"INSERT INTO watch_list (ID, Title, Year, Age, IMDB, Rotten_Tomatoes, Netflix, Hulu, Prime_Video, Disney_Plus, Type) VALUES(contents)\"\r\n",
                "# # insert_records = \"INSERT INTO shows (Title, Year, Age, IMDB, Rotten_Tomatoes, Netflix, Hulu, Prime_Video, Disney_Plus, Type) VALUES('Breaking Bad', 2008, '18+', '9.4/10', '100/100', 1, 0, 0, 0, 1)\"\r\n",
                "con.executemany(sql_statement, katy_watch)"
            ],
            "metadata": {
                "azdata_cell_guid": "b871523e-a476-4f3a-a6ac-2e251f140e84",
                "language": "python",
                "tags": []
            },
            "outputs": [
                {
                    "data": {
                        "text/plain": "<sqlite3.Cursor at 0x2436f765a40>"
                    },
                    "metadata": {},
                    "execution_count": 46,
                    "output_type": "execute_result"
                }
            ],
            "execution_count": 46
        },
        {
            "cell_type": "code",
            "source": [
                ""
            ],
            "metadata": {
                "language": "python",
                "azdata_cell_guid": "f9aa7afe-034a-4fd1-863e-a9d89bdd9de8"
            },
            "outputs": [],
            "execution_count": null
        },
        {
            "cell_type": "markdown",
            "source": [
                "## Results\n",
                "\n",
                "Now that you have done your analysis, make note of the answers to the following questions by editing the text cell:\n",
                "\n",
                "1. Was every show on your watchlist in the Kaggle dataset? Do you have any ideas as to why a show might not have been present?\n",
                "2. Did you include a show or shows in your watchlist that is exclusive to one of the platforms? How might that have impacted your analysis?\n",
                "2. Which streaming service(s) offered the most shows on your watchlist? Which streaming service(s) offered the least?\n",
                "3. Based on the shows you want to watch and the results of your analysis, is there a streaming service you think would be a good fit for you?"
            ],
            "metadata": {
                "azdata_cell_guid": "909689e4-1aae-41e3-b1f8-158ebe5ec3ca"
            }
        }
    ]
}